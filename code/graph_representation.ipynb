{
 "cells": [
  {
   "cell_type": "markdown",
   "metadata": {},
   "source": [
    "# Libs"
   ]
  },
  {
   "cell_type": "code",
   "execution_count": 14,
   "metadata": {
    "ExecuteTime": {
     "end_time": "2020-05-08T06:57:39.211544Z",
     "start_time": "2020-05-08T06:57:39.201519Z"
    }
   },
   "outputs": [],
   "source": [
    "import os\n",
    "import warnings\n",
    "warnings.filterwarnings('ignore')\n",
    "\n",
    "import numpy as np\n",
    "import networkx as nx\n",
    "import matplotlib.pyplot as plt\n",
    "%matplotlib inline"
   ]
  },
  {
   "cell_type": "markdown",
   "metadata": {},
   "source": [
    "# Create Toy Network"
   ]
  },
  {
   "cell_type": "code",
   "execution_count": 25,
   "metadata": {
    "ExecuteTime": {
     "end_time": "2020-05-08T06:59:35.863691Z",
     "start_time": "2020-05-08T06:59:35.860697Z"
    }
   },
   "outputs": [],
   "source": [
    "G = nx.DiGraph()"
   ]
  },
  {
   "cell_type": "code",
   "execution_count": 30,
   "metadata": {
    "ExecuteTime": {
     "end_time": "2020-05-08T06:59:51.507521Z",
     "start_time": "2020-05-08T06:59:51.503516Z"
    }
   },
   "outputs": [],
   "source": [
    "grid_size = (4,4)\n",
    "\n",
    "node_list = []\n",
    "for i in range(grid_size[0]):\n",
    "    for j in range(grid_size[1]):\n",
    "        node_list.append((i,j))"
   ]
  },
  {
   "cell_type": "code",
   "execution_count": 31,
   "metadata": {
    "ExecuteTime": {
     "end_time": "2020-05-08T06:59:51.724172Z",
     "start_time": "2020-05-08T06:59:51.721204Z"
    }
   },
   "outputs": [],
   "source": [
    "for node in node_list:\n",
    "    G.add_node(node)"
   ]
  },
  {
   "cell_type": "code",
   "execution_count": 32,
   "metadata": {
    "ExecuteTime": {
     "end_time": "2020-05-08T06:59:52.135107Z",
     "start_time": "2020-05-08T06:59:52.127121Z"
    }
   },
   "outputs": [],
   "source": [
    "max_idx = max(grid_size) - 1\n",
    "for node in node_list:\n",
    "    row, col = node\n",
    "    if row > 0:\n",
    "        G.add_edge(node,(row - 1,col))\n",
    "        G.add_edge((row - 1,col),node)\n",
    "    if col > 0:\n",
    "        G.add_edge(node,(row,col - 1))\n",
    "        G.add_edge((row,col - 1),node)\n",
    "    if row < max_idx:\n",
    "        G.add_edge(node,(row + 1,col))\n",
    "        G.add_edge((row + 1,col),node)\n",
    "    if col < max_idx:\n",
    "        G.add_edge(node,(row,col + 1))\n",
    "        G.add_edge((row,col + 1),node)"
   ]
  },
  {
   "cell_type": "code",
   "execution_count": 55,
   "metadata": {
    "ExecuteTime": {
     "end_time": "2020-05-08T07:04:49.074776Z",
     "start_time": "2020-05-08T07:04:48.776575Z"
    }
   },
   "outputs": [
    {
     "data": {
      "image/png": "[encoded data removed]",
      "text/plain": [
       "<Figure size 432x288 with 1 Axes>"
      ]
     },
     "metadata": {},
     "output_type": "display_data"
    }
   ],
   "source": [
    "nx.draw(G,node_size=100,node_color='b',edge_color='k')"
   ]
  },
  {
   "cell_type": "code",
   "execution_count": 88,
   "metadata": {
    "ExecuteTime": {
     "end_time": "2020-05-08T08:31:34.010367Z",
     "start_time": "2020-05-08T08:31:34.005346Z"
    }
   },
   "outputs": [],
   "source": [
    "def cal_direction(edge_idx):\n",
    "    '''\n",
    "    edge_idx: [row_diff, col_diff]\n",
    "    # [1,0] --> heading South\n",
    "    # [-1,0] --> heading North\n",
    "    # [0,1] --> heading East\n",
    "    # [0,-1] --> heading West\n",
    "    '''\n",
    "    if edge_idx == [1,0]:\n",
    "        return 'South'\n",
    "    elif edge_idx == [-1,0]:\n",
    "        return 'North'\n",
    "    elif edge_idx == [0,1]:\n",
    "        return 'East'\n",
    "    elif edge_idx == [0,-1]:\n",
    "        return 'West'\n",
    "    else:\n",
    "        print('Wrong edge index!')\n",
    "\n",
    "\n",
    "def is_margin(node_idx,max_idx):\n",
    "    '''\n",
    "    node_idx: (row, col)\n",
    "    '''\n",
    "    row, col = node_idx\n",
    "    if (row == 0) or (col == 0) or (row == max_idx) or (col == max_idx):\n",
    "        return True\n",
    "    else:\n",
    "        return False"
   ]
  },
  {
   "cell_type": "code",
   "execution_count": 83,
   "metadata": {
    "ExecuteTime": {
     "end_time": "2020-05-08T08:27:29.832458Z",
     "start_time": "2020-05-08T08:27:29.825476Z"
    }
   },
   "outputs": [],
   "source": [
    "G_mv = nx.DiGraph()\n",
    "direction_to_mv_origin = {'South':[-1,0],'North':[0,1],'East':[0,1],'West':[-1,0]}\n",
    "for new_node in G.edges():\n",
    "    new_node_ls = list(new_node)\n",
    "    direction = cal_direction([new_node_ls[1][i] - new_node_ls[0][i] for i in range(2)])\n",
    "    \n",
    "    # o-node is margin\n",
    "    if is_margin(new_node_ls[0],max_idx):\n",
    "        mv_ls_origin = direction_to_mv_origin[direction]\n",
    "    else:\n",
    "        mv_ls_origin = [-1,0,1]\n",
    "    \n",
    "    # d-node is margin\n",
    "    if is_margin(new_node_ls[0],max_idx):\n",
    "        mv_ls_destination = [-1,1]\n",
    "    else:\n",
    "        mv_ls_destination = [-1,0,1]\n",
    "    \n",
    "    mv_ls = list(set(mv_ls_origin).intersection(set(mv_ls_destination)))\n",
    "    for mv in mv_ls:\n",
    "        G_mv.add_node(tuple(list(new_node) + [mv]))"
   ]
  },
  {
   "cell_type": "code",
   "execution_count": 97,
   "metadata": {
    "ExecuteTime": {
     "end_time": "2020-05-08T08:40:56.425609Z",
     "start_time": "2020-05-08T08:40:56.420588Z"
    }
   },
   "outputs": [],
   "source": [
    "fn_row_minus = lambda a:(a[0] - 1,a[1])\n",
    "fn_row_plus = lambda a:(a[0] + 1,a[1])\n",
    "fn_col_minus = lambda a:(a[0],a[1] - 1)\n",
    "fn_col_plus = lambda a:(a[0],a[1] + 1)"
   ]
  },
  {
   "cell_type": "code",
   "execution_count": 89,
   "metadata": {
    "ExecuteTime": {
     "end_time": "2020-05-08T08:31:36.132062Z",
     "start_time": "2020-05-08T08:31:36.127076Z"
    }
   },
   "outputs": [
    {
     "name": "stdout",
     "output_type": "stream",
     "text": [
      "((0, 0), (1, 0), -1)\n",
      "South\n"
     ]
    }
   ],
   "source": [
    "for node in G_mv.node():\n",
    "    print(node)\n",
    "    direction = cal_direction([node[1][i] - node[0][i] for i in range(2)])\n",
    "    print(direction)\n",
    "    # South, -1 --> col + 1; South, 0 --> row + 1; South, 1 --> col - 1\n",
    "    # North, -1 --> col - 1; North, 0 --> row - 1; North, 1 --> col + 1\n",
    "    # East, -1 --> row - 1; East, 0 --> col - 1; East, 1 --> row + 1\n",
    "    # West, -1 --> row + 1; West, 0 --> col + 1; West, 1 --> row - 1\n",
    "    from_node = node[1]\n",
    "    if (direction,node[-1]) in [('South',0),('East',1),('West',-1)]:\n",
    "        to_node = fn_row_plus(node(1))\n",
    "    elif (direction,node[-1]) in [('South',0),('East',1),('West',-1)]:\n",
    "        \n",
    "    break"
   ]
  }
 ],
 "metadata": {
  "hide_input": false,
  "kernelspec": {
   "display_name": "Python 3",
   "language": "python",
   "name": "python3"
  },
  "language_info": {
   "codemirror_mode": {
    "name": "ipython",
    "version": 3
   },
   "file_extension": ".py",
   "mimetype": "text/x-python",
   "name": "python",
   "nbconvert_exporter": "python",
   "pygments_lexer": "ipython3",
   "version": "3.6.4rc1"
  },
  "latex_envs": {
   "LaTeX_envs_menu_present": true,
   "autoclose": false,
   "autocomplete": true,
   "bibliofile": "biblio.bib",
   "cite_by": "apalike",
   "current_citInitial": 1,
   "eqLabelWithNumbers": true,
   "eqNumInitial": 1,
   "hotkeys": {
    "equation": "Ctrl-E",
    "itemize": "Ctrl-I"
   },
   "labels_anchors": false,
   "latex_user_defs": false,
   "report_style_numbering": false,
   "user_envs_cfg": false
  },
  "toc": {
   "base_numbering": 1,
   "nav_menu": {},
   "number_sections": true,
   "sideBar": true,
   "skip_h1_title": false,
   "title_cell": "Table of Contents",
   "title_sidebar": "Contents",
   "toc_cell": false,
   "toc_position": {},
   "toc_section_display": true,
   "toc_window_display": false
  },
  "varInspector": {
   "cols": {
    "lenName": 16,
    "lenType": 16,
    "lenVar": 40
   },
   "kernels_config": {
    "python": {
     "delete_cmd_postfix": "",
     "delete_cmd_prefix": "del ",
     "library": "var_list.py",
     "varRefreshCmd": "print(var_dic_list())"
    },
    "r": {
     "delete_cmd_postfix": ") ",
     "delete_cmd_prefix": "rm(",
     "library": "var_list.r",
     "varRefreshCmd": "cat(var_dic_list()) "
    }
   },
   "types_to_exclude": [
    "module",
    "function",
    "builtin_function_or_method",
    "instance",
    "_Feature"
   ],
   "window_display": false
  }
 },
 "nbformat": 4,
 "nbformat_minor": 2
}
