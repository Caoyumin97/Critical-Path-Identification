{
 "cells": [
  {
   "cell_type": "markdown",
   "metadata": {},
   "source": [
    "# Libs"
   ]
  },
  {
   "cell_type": "code",
   "execution_count": 1,
   "metadata": {
    "ExecuteTime": {
     "end_time": "2020-05-31T11:46:53.384247Z",
     "start_time": "2020-05-31T11:46:52.120282Z"
    }
   },
   "outputs": [],
   "source": [
    "import os\n",
    "import warnings\n",
    "import pprint\n",
    "warnings.filterwarnings('ignore')\n",
    "\n",
    "import numpy as np\n",
    "import networkx as nx\n",
    "import matplotlib.pyplot as plt\n",
    "%matplotlib inline\n",
    "\n",
    "from graph_representation import *"
   ]
  },
  {
   "cell_type": "markdown",
   "metadata": {
    "heading_collapsed": true
   },
   "source": [
    "# Create Grid Network"
   ]
  },
  {
   "cell_type": "code",
   "execution_count": null,
   "metadata": {
    "ExecuteTime": {
     "end_time": "2020-05-09T10:58:40.238923Z",
     "start_time": "2020-05-09T10:58:40.234881Z"
    },
    "hidden": true
   },
   "outputs": [],
   "source": [
    "def create_grid_network(size, show_plot=False):\n",
    "    '''\n",
    "    Create a square grid network \n",
    "    size: network shape --> (size, size)\n",
    "    '''\n",
    "\n",
    "    G = nx.DiGraph()\n",
    "    \n",
    "    grid_size = (size,size)\n",
    "\n",
    "    node_list = []\n",
    "    for i in range(grid_size[0]):\n",
    "        for j in range(grid_size[1]):\n",
    "            node_list.append((i,j))\n",
    "    \n",
    "    num_bd_nodes = 2 * size + 2 * size\n",
    "    for i in range(size):\n",
    "        node_list.append(('nb',i))\n",
    "        node_list.append(('sb',i))\n",
    "        node_list.append((i,'wb'))\n",
    "        node_list.append((i,'eb'))\n",
    "    \n",
    "    # add nodes\n",
    "    for node in node_list:\n",
    "        G.add_node(node)\n",
    "\n",
    "    # add internal edges\n",
    "    max_idx = size - 1\n",
    "    for node in node_list:\n",
    "        row, col = node\n",
    "        if row > 0:\n",
    "            distance = 300 + 700 * np.random.rand()\n",
    "            G.add_edge(node,(row - 1,col),distance=distance)\n",
    "            G.add_edge((row - 1,col),node,distance=distance)\n",
    "        if col > 0:\n",
    "            distance = 300 + 700 * np.random.rand()\n",
    "            G.add_edge(node,(row,col - 1),distance=distance)\n",
    "            G.add_edge((row,col - 1),node,distance=distance)\n",
    "        if row < max_idx:\n",
    "            distance = 300 + 700 * np.random.rand()\n",
    "            G.add_edge(node,(row + 1,col),distance=distance)\n",
    "            G.add_edge((row + 1,col),node,distance=distance)\n",
    "        if col < max_idx:\n",
    "            distance = 300 + 700 * np.random.rand()\n",
    "            G.add_edge(node,(row,col + 1),distance=distance)\n",
    "            G.add_edge((row,col + 1),node,distance=distance)\n",
    "\n",
    "    # network vis\n",
    "    if show_plot:\n",
    "        nx.draw(G,node_size=100,node_color='b',edge_color='k')\n",
    "        plt.show()\n",
    "    \n",
    "    return G"
   ]
  },
  {
   "cell_type": "markdown",
   "metadata": {
    "heading_collapsed": true
   },
   "source": [
    "# Transform into Movement Network"
   ]
  },
  {
   "cell_type": "code",
   "execution_count": null,
   "metadata": {
    "ExecuteTime": {
     "end_time": "2020-05-09T10:58:40.570037Z",
     "start_time": "2020-05-09T10:58:40.564998Z"
    },
    "hidden": true
   },
   "outputs": [],
   "source": [
    "def cal_direction(edge_idx):\n",
    "    '''\n",
    "    edge_idx: [row_diff, col_diff]\n",
    "    # [1,0] --> heading South\n",
    "    # [-1,0] --> heading North\n",
    "    # [0,1] --> heading East\n",
    "    # [0,-1] --> heading West\n",
    "    '''\n",
    "    if edge_idx == [1,0]:\n",
    "        return 'South'\n",
    "    elif edge_idx == [-1,0]:\n",
    "        return 'North'\n",
    "    elif edge_idx == [0,1]:\n",
    "        return 'East'\n",
    "    elif edge_idx == [0,-1]:\n",
    "        return 'West'\n",
    "    else:\n",
    "        print('Wrong edge index!')"
   ]
  },
  {
   "cell_type": "code",
   "execution_count": null,
   "metadata": {
    "ExecuteTime": {
     "end_time": "2020-05-09T10:58:40.576991Z",
     "start_time": "2020-05-09T10:58:40.571980Z"
    },
    "hidden": true
   },
   "outputs": [],
   "source": [
    "margin_edges = []\n",
    "for row in range(max_idx + 1):\n",
    "    margin_edges.append(((row, -1),(row, 0)))\n",
    "    margin_edges.append(((row,max_idx + 1),(row,max_idx)))\n",
    "for col in range(max_idx + 1):\n",
    "    margin_edges.append(((-1,col),(0,col)))\n",
    "    margin_edges.append(((max_idx + 1,col),(max_idx,col)))"
   ]
  },
  {
   "cell_type": "code",
   "execution_count": null,
   "metadata": {
    "ExecuteTime": {
     "end_time": "2020-05-09T10:58:40.586940Z",
     "start_time": "2020-05-09T10:58:40.578960Z"
    },
    "hidden": true
   },
   "outputs": [],
   "source": [
    "G_mv = nx.DiGraph()\n",
    "direction_to_mv_origin = {'nbd': {'South': [-1, 0, 1], 'East': [0, 1], 'West': [-1, 0]},\n",
    "                          'sbd': {'North': [-1, 0, 1], 'East': [0, -1], 'West': [0, 1]},\n",
    "                          'wbd': {'South': [-1, 0], 'North': [0, 1], 'East': [-1, 0, 1]},\n",
    "                          'ebd': {'South': [1, 0], 'North': [0, -1], 'West': [-1, 0, 1]},\n",
    "                          'nwbd': {'South': [0, -1], 'East': [0, 1]},\n",
    "                          'nebd': {'South': [0, 1], 'West': [-1, 0]},\n",
    "                          'swbd': {'North': [0, 1], 'East': [0, -1]},\n",
    "                          'sebd': {'North': [0, -1], 'West': [0, 1]}}\n",
    "direction_to_mv_destination = {'nwbd': {'North': [1], 'West': [-1]},\n",
    "                               'nebd': {'North': [-1], 'East': [1]},\n",
    "                               'swbd': {'South': [-1], 'West': [1]},\n",
    "                               'sebd': {'South': [1], 'East': [-1]}}\n",
    "\n",
    "for new_node in list(G.edges) + margin_edges:\n",
    "    for mv in [-1,0,1]:\n",
    "        G_mv.add_node(tuple(list(new_node) + [mv]))"
   ]
  },
  {
   "cell_type": "code",
   "execution_count": null,
   "metadata": {
    "ExecuteTime": {
     "end_time": "2020-05-09T10:58:40.592924Z",
     "start_time": "2020-05-09T10:58:40.587937Z"
    },
    "hidden": true
   },
   "outputs": [],
   "source": [
    "fn_row_minus = lambda a:(a[0] - 1,a[1])\n",
    "fn_row_plus = lambda a:(a[0] + 1,a[1])\n",
    "fn_col_minus = lambda a:(a[0],a[1] - 1)\n",
    "fn_col_plus = lambda a:(a[0],a[1] + 1)"
   ]
  },
  {
   "cell_type": "code",
   "execution_count": null,
   "metadata": {
    "ExecuteTime": {
     "end_time": "2020-05-09T10:58:40.604893Z",
     "start_time": "2020-05-09T10:58:40.594919Z"
    },
    "hidden": true
   },
   "outputs": [],
   "source": [
    "for node in G_mv.nodes:\n",
    "    \n",
    "    direction = cal_direction([node[1][i] - node[0][i] for i in range(2)])\n",
    "    \n",
    "    # South, -1 --> col + 1; South, 0 --> row + 1; South, 1 --> col - 1\n",
    "    # North, -1 --> col - 1; North, 0 --> row - 1; North, 1 --> col + 1\n",
    "    # East, -1 --> row - 1; East, 0 --> col + 1; East, 1 --> row + 1\n",
    "    # West, -1 --> row + 1; West, 0 --> col - 1; West, 1 --> row - 1\n",
    "\n",
    "    from_node = node[1]\n",
    "    if (direction,node[-1]) in [('South',0),('East',1),('West',-1)]:\n",
    "        to_node = fn_row_plus(node[1])\n",
    "    elif (direction,node[-1]) in [('North',0),('East',-1),('West',1)]:\n",
    "        to_node = fn_row_minus(node[1])\n",
    "    elif (direction,node[-1]) in [('South',-1),('North',1),('East',0)]:\n",
    "        to_node = fn_col_plus(node[1])\n",
    "    elif (direction,node[-1]) in [('South',1),('North',-1),('West',0)]:\n",
    "        to_node = fn_col_minus(node[1])\n",
    "\n",
    "    if to_node not in G.nodes:\n",
    "        continue\n",
    "    else:\n",
    "        connecting_node = []\n",
    "        for mv in [-1,0,1]:\n",
    "            trial_node = tuple([from_node, to_node] + [mv])\n",
    "            if trial_node in G_mv.nodes:\n",
    "                connecting_node.append(trial_node)\n",
    "        for i in range(len(connecting_node)):\n",
    "            G_mv.add_edge(node,connecting_node[i],weight=0.1*np.random.rand())"
   ]
  },
  {
   "cell_type": "code",
   "execution_count": null,
   "metadata": {
    "ExecuteTime": {
     "end_time": "2020-05-09T10:58:40.609893Z",
     "start_time": "2020-05-09T10:58:40.605890Z"
    },
    "hidden": true
   },
   "outputs": [],
   "source": [
    "degree_dict = dict(G_mv.degree)\n",
    "rmv_node = []\n",
    "for key in degree_dict.keys():\n",
    "    if degree_dict[key] == 0:\n",
    "        rmv_node.append(key)\n",
    "        G_mv.remove_node(key)"
   ]
  },
  {
   "cell_type": "code",
   "execution_count": null,
   "metadata": {
    "ExecuteTime": {
     "end_time": "2020-05-09T10:58:53.458548Z",
     "start_time": "2020-05-09T10:58:40.610876Z"
    },
    "hidden": true,
    "scrolled": false
   },
   "outputs": [],
   "source": [
    "plt.figure(figsize=(8,8))\n",
    "nx.draw(G_mv,node_size=30,node_color='r',edge_color='k',pos=nx.kamada_kawai_layout(G_mv))"
   ]
  },
  {
   "cell_type": "markdown",
   "metadata": {
    "heading_collapsed": true
   },
   "source": [
    "# Lib Test"
   ]
  },
  {
   "cell_type": "code",
   "execution_count": null,
   "metadata": {
    "ExecuteTime": {
     "end_time": "2020-05-28T06:51:33.998508Z",
     "start_time": "2020-05-28T06:51:33.994521Z"
    },
    "hidden": true
   },
   "outputs": [],
   "source": [
    "from graph_representation import *"
   ]
  },
  {
   "cell_type": "code",
   "execution_count": null,
   "metadata": {
    "ExecuteTime": {
     "end_time": "2020-05-28T06:51:39.450538Z",
     "start_time": "2020-05-28T06:51:39.357657Z"
    },
    "hidden": true
   },
   "outputs": [],
   "source": [
    "node_dim = np.zeros((9,2))\n",
    "edge_dim = np.zeros((9,2))\n",
    "for size in range(2,11):\n",
    "    G = create_grid_network(size)\n",
    "    G_mv = movement_network_transform(G)\n",
    "    node_dim[size - 2,:] = [len(G.nodes),len(G_mv.nodes)]\n",
    "    edge_dim[size - 2,:] = [len(G.edges),len(G_mv.edges)]"
   ]
  },
  {
   "cell_type": "code",
   "execution_count": null,
   "metadata": {
    "ExecuteTime": {
     "end_time": "2020-05-09T11:09:58.598020Z",
     "start_time": "2020-05-09T11:09:58.453433Z"
    },
    "hidden": true
   },
   "outputs": [],
   "source": [
    "plt.rc('font',family='Times New Roman',size=12)\n",
    "plt.plot(node_dim[:,0],node_dim[:,1],marker='o',c='b')\n",
    "plt.xlabel('Grid Network Node Number',fontdict={'size':14})\n",
    "plt.ylabel('Movement Network Node Number',fontdict={'size':14})\n",
    "k = (node_dim[:,1] / node_dim[:,0]).mean()\n",
    "plt.text(40,800,'k = {:.2f}'.format(k),fontdict={'color':'b','size':15,'style':'italic'})"
   ]
  },
  {
   "cell_type": "code",
   "execution_count": null,
   "metadata": {
    "ExecuteTime": {
     "end_time": "2020-05-09T11:09:53.202630Z",
     "start_time": "2020-05-09T11:09:53.052008Z"
    },
    "hidden": true,
    "scrolled": true
   },
   "outputs": [],
   "source": [
    "plt.rc('font',family='Times New Roman',size=12)\n",
    "plt.plot(edge_dim[:,0],edge_dim[:,1],marker='^',c='r')\n",
    "plt.xlabel('Grid Network Edge Number',fontdict={'size':14})\n",
    "plt.ylabel('Movement Network Edge Number',fontdict={'size':14})\n",
    "k = (edge_dim[:,1] / edge_dim[:,0]).mean()\n",
    "plt.text(150,2000,'k = {:.2f}'.format(k),fontdict={'color':'r','size':15,'style':'italic'})"
   ]
  },
  {
   "cell_type": "markdown",
   "metadata": {},
   "source": [
    "# Load Path Flow"
   ]
  },
  {
   "cell_type": "code",
   "execution_count": 2,
   "metadata": {
    "ExecuteTime": {
     "end_time": "2020-05-31T11:46:58.856284Z",
     "start_time": "2020-05-31T11:46:58.844325Z"
    }
   },
   "outputs": [],
   "source": [
    "G = create_grid_network(size=3)\n",
    "G_mv = movement_network_transform(G)"
   ]
  },
  {
   "cell_type": "code",
   "execution_count": 3,
   "metadata": {
    "ExecuteTime": {
     "end_time": "2020-05-31T11:46:59.217348Z",
     "start_time": "2020-05-31T11:46:59.208375Z"
    }
   },
   "outputs": [],
   "source": [
    "# select od\n",
    "def select_od_pairs(G, num):\n",
    "    \"\"\"\n",
    "    Select a portion of Boundary nodes in G.\n",
    "    Params: G, symmetric grid network\n",
    "    Params: num, number of selected o/d node\n",
    "    \"\"\"\n",
    "    # init node set\n",
    "    nodeSet = list(G.nodes)\n",
    "\n",
    "    # get boundary nodes\n",
    "    boundNode = []\n",
    "    maxNode = np.sqrt(len(G.nodes)) - 1\n",
    "    for idx, (u, v) in enumerate(nodeSet):\n",
    "        if (u == maxNode) or (v == maxNode) or (u == 0) or (v == 0):\n",
    "            boundNode.append((u,v))\n",
    "    \n",
    "    # select o/d node\n",
    "    odNode = []\n",
    "    idx = []\n",
    "    if num > len(boundNode):\n",
    "        print('[Error] Given param \"num\" is too large.')\n",
    "    \n",
    "    while len(idx) < num:\n",
    "        node = np.random.choice(range(len(boundNode)))\n",
    "        if node not in idx:\n",
    "            idx.append(node)\n",
    "    odNode = [boundNode[int(i)] for i in idx]\n",
    "    \n",
    "    return odNode"
   ]
  },
  {
   "cell_type": "code",
   "execution_count": 4,
   "metadata": {
    "ExecuteTime": {
     "end_time": "2020-05-31T11:46:59.685404Z",
     "start_time": "2020-05-31T11:46:59.679386Z"
    }
   },
   "outputs": [],
   "source": [
    "def generate_od_demand_pattern(odNodeSet, mean):\n",
    "    \"\"\"\n",
    "    Generate daily OD demand.\n",
    "    Params: odNodeSet, set of O/D nodes\n",
    "    Params: mean, mean value of the normal distribution\n",
    "    \"\"\"\n",
    "    odPairSet = [(u, v) for u in odNodeSet for v in odNodeSet if u != v]\n",
    "\n",
    "    odDemand = {}\n",
    "    for idx, pair in enumerate(odPairSet):\n",
    "        odDemand[pair] = int(np.abs(np.random.normal(mean,mean/3)))\n",
    "    return odPairSet, odDemand"
   ]
  },
  {
   "cell_type": "code",
   "execution_count": 5,
   "metadata": {
    "ExecuteTime": {
     "end_time": "2020-05-31T11:47:00.542834Z",
     "start_time": "2020-05-31T11:47:00.536880Z"
    }
   },
   "outputs": [],
   "source": [
    "def get_cost(G, path):\n",
    "    \"\"\"\n",
    "    Get path cost in a weighted network G.\n",
    "    \"\"\"\n",
    "    cost = 0\n",
    "    for idx, o_node in enumerate(path[:-1]):\n",
    "        d_node = path[idx + 1]\n",
    "        edgeCost = G.get_edge_data(o_node, d_node)[\"distance\"]\n",
    "        cost += edgeCost\n",
    "    return cost\n",
    "\n",
    "\n",
    "def generate_path_set(G, o_node, d_node, k, speed_limit=30):\n",
    "    \"\"\"\n",
    "    Get k shortest paths for o_node to d_node in network G.\n",
    "    \"\"\"\n",
    "    pathSet = {}\n",
    "    for idx, path in enumerate(\n",
    "        nx.shortest_simple_paths(G, o_node, d_node, weight=\"distance\")\n",
    "    ):\n",
    "        if idx < k:\n",
    "            cost = get_cost(G, path) / (speed_limit / 3.6)\n",
    "            pathSet[idx] = {\"path\": path, \"cost\": cost}\n",
    "        else:\n",
    "            break\n",
    "    return pathSet"
   ]
  },
  {
   "cell_type": "code",
   "execution_count": 6,
   "metadata": {
    "ExecuteTime": {
     "end_time": "2020-05-31T11:47:01.979609Z",
     "start_time": "2020-05-31T11:47:01.972627Z"
    }
   },
   "outputs": [],
   "source": [
    "odNodeSet = select_od_pairs(G,4)\n",
    "odPairSet, odDemand = generate_od_demand_pattern(odNodeSet, mean=800)"
   ]
  },
  {
   "cell_type": "code",
   "execution_count": 7,
   "metadata": {
    "ExecuteTime": {
     "end_time": "2020-05-31T11:47:02.984481Z",
     "start_time": "2020-05-31T11:47:02.973511Z"
    }
   },
   "outputs": [],
   "source": [
    "odPathInfo = {}\n",
    "for u,v in odPairSet:\n",
    "    pathSet = generate_path_set(G, u, v, k=2)\n",
    "    pathCosts = np.array([pathSet[i]['cost'] for i in pathSet.keys()])\n",
    "    pathProb = np.exp(-pathCosts / 3600) / np.exp(-pathCosts / 3600).sum()\n",
    "    pathFlow = np.round(odDemand[(u,v)] * pathProb)\n",
    "    for i in pathSet.keys():\n",
    "        pathSet[i]['flow'] = pathFlow[i]\n",
    "    odPathInfo[(u,v)] = pathSet"
   ]
  },
  {
   "cell_type": "code",
   "execution_count": null,
   "metadata": {
    "ExecuteTime": {
     "end_time": "2020-05-09T14:37:06.507772Z",
     "start_time": "2020-05-09T14:37:06.503813Z"
    }
   },
   "outputs": [],
   "source": [
    "# select shortest path\n",
    "\n",
    "# generate path flow\n",
    "\n",
    "# generate movement flow (node weight)\n",
    "\n",
    "# generate movement pair flow (edge weight)"
   ]
  }
 ],
 "metadata": {
  "hide_input": false,
  "kernelspec": {
   "display_name": "Python 3",
   "language": "python",
   "name": "python3"
  },
  "language_info": {
   "codemirror_mode": {
    "name": "ipython",
    "version": 3
   },
   "file_extension": ".py",
   "mimetype": "text/x-python",
   "name": "python",
   "nbconvert_exporter": "python",
   "pygments_lexer": "ipython3",
   "version": "3.6.4rc1"
  },
  "latex_envs": {
   "LaTeX_envs_menu_present": true,
   "autoclose": false,
   "autocomplete": true,
   "bibliofile": "biblio.bib",
   "cite_by": "apalike",
   "current_citInitial": 1,
   "eqLabelWithNumbers": true,
   "eqNumInitial": 1,
   "hotkeys": {
    "equation": "Ctrl-E",
    "itemize": "Ctrl-I"
   },
   "labels_anchors": false,
   "latex_user_defs": false,
   "report_style_numbering": false,
   "user_envs_cfg": false
  },
  "toc": {
   "base_numbering": 1,
   "nav_menu": {},
   "number_sections": true,
   "sideBar": true,
   "skip_h1_title": false,
   "title_cell": "Table of Contents",
   "title_sidebar": "Contents",
   "toc_cell": false,
   "toc_position": {},
   "toc_section_display": true,
   "toc_window_display": false
  },
  "varInspector": {
   "cols": {
    "lenName": 16,
    "lenType": 16,
    "lenVar": 40
   },
   "kernels_config": {
    "python": {
     "delete_cmd_postfix": "",
     "delete_cmd_prefix": "del ",
     "library": "var_list.py",
     "varRefreshCmd": "print(var_dic_list())"
    },
    "r": {
     "delete_cmd_postfix": ") ",
     "delete_cmd_prefix": "rm(",
     "library": "var_list.r",
     "varRefreshCmd": "cat(var_dic_list()) "
    }
   },
   "types_to_exclude": [
    "module",
    "function",
    "builtin_function_or_method",
    "instance",
    "_Feature"
   ],
   "window_display": false
  }
 },
 "nbformat": 4,
 "nbformat_minor": 2
}
