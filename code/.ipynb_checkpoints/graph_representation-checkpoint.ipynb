{
 "cells": [
  {
   "cell_type": "markdown",
   "metadata": {},
   "source": [
    "# Libs"
   ]
  },
  {
   "cell_type": "code",
   "execution_count": null,
   "metadata": {
    "ExecuteTime": {
     "end_time": "2020-05-28T06:51:26.229936Z",
     "start_time": "2020-05-28T06:51:23.889549Z"
    }
   },
   "outputs": [],
   "source": [
    "import os\n",
    "import warnings\n",
    "warnings.filterwarnings('ignore')\n",
    "\n",
    "import numpy as np\n",
    "import networkx as nx\n",
    "import matplotlib.pyplot as plt\n",
    "%matplotlib inline\n",
    "\n",
    "from graph_representation import *"
   ]
  },
  {
   "cell_type": "markdown",
   "metadata": {
    "heading_collapsed": true
   },
   "source": [
    "# Create Grid Network"
   ]
  },
  {
   "cell_type": "code",
   "execution_count": null,
   "metadata": {
    "ExecuteTime": {
     "end_time": "2020-05-09T10:58:40.238923Z",
     "start_time": "2020-05-09T10:58:40.234881Z"
    },
    "hidden": true
   },
   "outputs": [],
   "source": [
    "G = nx.DiGraph()"
   ]
  },
  {
   "cell_type": "code",
   "execution_count": null,
   "metadata": {
    "ExecuteTime": {
     "end_time": "2020-05-09T10:58:40.244855Z",
     "start_time": "2020-05-09T10:58:40.239867Z"
    },
    "hidden": true
   },
   "outputs": [],
   "source": [
    "grid_size = (4,4)\n",
    "\n",
    "node_list = []\n",
    "for i in range(grid_size[0]):\n",
    "    for j in range(grid_size[1]):\n",
    "        node_list.append((i,j))"
   ]
  },
  {
   "cell_type": "code",
   "execution_count": null,
   "metadata": {
    "ExecuteTime": {
     "end_time": "2020-05-09T10:58:40.248879Z",
     "start_time": "2020-05-09T10:58:40.245852Z"
    },
    "hidden": true
   },
   "outputs": [],
   "source": [
    "for node in node_list:\n",
    "    G.add_node(node)"
   ]
  },
  {
   "cell_type": "code",
   "execution_count": null,
   "metadata": {
    "ExecuteTime": {
     "end_time": "2020-05-09T10:58:40.255846Z",
     "start_time": "2020-05-09T10:58:40.250838Z"
    },
    "hidden": true
   },
   "outputs": [],
   "source": [
    "max_idx = max(grid_size) - 1\n",
    "for node in node_list:\n",
    "    row, col = node\n",
    "    if row > 0:\n",
    "        G.add_edge(node,(row - 1,col))\n",
    "        G.add_edge((row - 1,col),node)\n",
    "    if col > 0:\n",
    "        G.add_edge(node,(row,col - 1))\n",
    "        G.add_edge((row,col - 1),node)\n",
    "    if row < max_idx:\n",
    "        G.add_edge(node,(row + 1,col))\n",
    "        G.add_edge((row + 1,col),node)\n",
    "    if col < max_idx:\n",
    "        G.add_edge(node,(row,col + 1))\n",
    "        G.add_edge((row,col + 1),node)"
   ]
  },
  {
   "cell_type": "code",
   "execution_count": null,
   "metadata": {
    "ExecuteTime": {
     "end_time": "2020-05-09T10:58:40.564053Z",
     "start_time": "2020-05-09T10:58:40.256823Z"
    },
    "hidden": true
   },
   "outputs": [],
   "source": [
    "nx.draw(G,node_size=100,node_color='b',edge_color='k')"
   ]
  },
  {
   "cell_type": "markdown",
   "metadata": {
    "heading_collapsed": true
   },
   "source": [
    "# Transform into Movement Network"
   ]
  },
  {
   "cell_type": "code",
   "execution_count": null,
   "metadata": {
    "ExecuteTime": {
     "end_time": "2020-05-09T10:58:40.570037Z",
     "start_time": "2020-05-09T10:58:40.564998Z"
    },
    "hidden": true
   },
   "outputs": [],
   "source": [
    "def cal_direction(edge_idx):\n",
    "    '''\n",
    "    edge_idx: [row_diff, col_diff]\n",
    "    # [1,0] --> heading South\n",
    "    # [-1,0] --> heading North\n",
    "    # [0,1] --> heading East\n",
    "    # [0,-1] --> heading West\n",
    "    '''\n",
    "    if edge_idx == [1,0]:\n",
    "        return 'South'\n",
    "    elif edge_idx == [-1,0]:\n",
    "        return 'North'\n",
    "    elif edge_idx == [0,1]:\n",
    "        return 'East'\n",
    "    elif edge_idx == [0,-1]:\n",
    "        return 'West'\n",
    "    else:\n",
    "        print('Wrong edge index!')"
   ]
  },
  {
   "cell_type": "code",
   "execution_count": null,
   "metadata": {
    "ExecuteTime": {
     "end_time": "2020-05-09T10:58:40.576991Z",
     "start_time": "2020-05-09T10:58:40.571980Z"
    },
    "hidden": true
   },
   "outputs": [],
   "source": [
    "margin_edges = []\n",
    "for row in range(max_idx + 1):\n",
    "    margin_edges.append(((row, -1),(row, 0)))\n",
    "    margin_edges.append(((row,max_idx + 1),(row,max_idx)))\n",
    "for col in range(max_idx + 1):\n",
    "    margin_edges.append(((-1,col),(0,col)))\n",
    "    margin_edges.append(((max_idx + 1,col),(max_idx,col)))"
   ]
  },
  {
   "cell_type": "code",
   "execution_count": null,
   "metadata": {
    "ExecuteTime": {
     "end_time": "2020-05-09T10:58:40.586940Z",
     "start_time": "2020-05-09T10:58:40.578960Z"
    },
    "hidden": true
   },
   "outputs": [],
   "source": [
    "G_mv = nx.DiGraph()\n",
    "direction_to_mv_origin = {'nbd': {'South': [-1, 0, 1], 'East': [0, 1], 'West': [-1, 0]},\n",
    "                          'sbd': {'North': [-1, 0, 1], 'East': [0, -1], 'West': [0, 1]},\n",
    "                          'wbd': {'South': [-1, 0], 'North': [0, 1], 'East': [-1, 0, 1]},\n",
    "                          'ebd': {'South': [1, 0], 'North': [0, -1], 'West': [-1, 0, 1]},\n",
    "                          'nwbd': {'South': [0, -1], 'East': [0, 1]},\n",
    "                          'nebd': {'South': [0, 1], 'West': [-1, 0]},\n",
    "                          'swbd': {'North': [0, 1], 'East': [0, -1]},\n",
    "                          'sebd': {'North': [0, -1], 'West': [0, 1]}}\n",
    "direction_to_mv_destination = {'nwbd': {'North': [1], 'West': [-1]},\n",
    "                               'nebd': {'North': [-1], 'East': [1]},\n",
    "                               'swbd': {'South': [-1], 'West': [1]},\n",
    "                               'sebd': {'South': [1], 'East': [-1]}}\n",
    "\n",
    "for new_node in list(G.edges) + margin_edges:\n",
    "    for mv in [-1,0,1]:\n",
    "        G_mv.add_node(tuple(list(new_node) + [mv]))"
   ]
  },
  {
   "cell_type": "code",
   "execution_count": null,
   "metadata": {
    "ExecuteTime": {
     "end_time": "2020-05-09T10:58:40.592924Z",
     "start_time": "2020-05-09T10:58:40.587937Z"
    },
    "hidden": true
   },
   "outputs": [],
   "source": [
    "fn_row_minus = lambda a:(a[0] - 1,a[1])\n",
    "fn_row_plus = lambda a:(a[0] + 1,a[1])\n",
    "fn_col_minus = lambda a:(a[0],a[1] - 1)\n",
    "fn_col_plus = lambda a:(a[0],a[1] + 1)"
   ]
  },
  {
   "cell_type": "code",
   "execution_count": null,
   "metadata": {
    "ExecuteTime": {
     "end_time": "2020-05-09T10:58:40.604893Z",
     "start_time": "2020-05-09T10:58:40.594919Z"
    },
    "hidden": true
   },
   "outputs": [],
   "source": [
    "for node in G_mv.nodes:\n",
    "    \n",
    "    direction = cal_direction([node[1][i] - node[0][i] for i in range(2)])\n",
    "    \n",
    "    # South, -1 --> col + 1; South, 0 --> row + 1; South, 1 --> col - 1\n",
    "    # North, -1 --> col - 1; North, 0 --> row - 1; North, 1 --> col + 1\n",
    "    # East, -1 --> row - 1; East, 0 --> col + 1; East, 1 --> row + 1\n",
    "    # West, -1 --> row + 1; West, 0 --> col - 1; West, 1 --> row - 1\n",
    "\n",
    "    from_node = node[1]\n",
    "    if (direction,node[-1]) in [('South',0),('East',1),('West',-1)]:\n",
    "        to_node = fn_row_plus(node[1])\n",
    "    elif (direction,node[-1]) in [('North',0),('East',-1),('West',1)]:\n",
    "        to_node = fn_row_minus(node[1])\n",
    "    elif (direction,node[-1]) in [('South',-1),('North',1),('East',0)]:\n",
    "        to_node = fn_col_plus(node[1])\n",
    "    elif (direction,node[-1]) in [('South',1),('North',-1),('West',0)]:\n",
    "        to_node = fn_col_minus(node[1])\n",
    "\n",
    "    if to_node not in G.nodes:\n",
    "        continue\n",
    "    else:\n",
    "        connecting_node = []\n",
    "        for mv in [-1,0,1]:\n",
    "            trial_node = tuple([from_node, to_node] + [mv])\n",
    "            if trial_node in G_mv.nodes:\n",
    "                connecting_node.append(trial_node)\n",
    "        for i in range(len(connecting_node)):\n",
    "            G_mv.add_edge(node,connecting_node[i],weight=0.1*np.random.rand())"
   ]
  },
  {
   "cell_type": "code",
   "execution_count": null,
   "metadata": {
    "ExecuteTime": {
     "end_time": "2020-05-09T10:58:40.609893Z",
     "start_time": "2020-05-09T10:58:40.605890Z"
    },
    "hidden": true
   },
   "outputs": [],
   "source": [
    "degree_dict = dict(G_mv.degree)\n",
    "rmv_node = []\n",
    "for key in degree_dict.keys():\n",
    "    if degree_dict[key] == 0:\n",
    "        rmv_node.append(key)\n",
    "        G_mv.remove_node(key)"
   ]
  },
  {
   "cell_type": "code",
   "execution_count": null,
   "metadata": {
    "ExecuteTime": {
     "end_time": "2020-05-09T10:58:53.458548Z",
     "start_time": "2020-05-09T10:58:40.610876Z"
    },
    "hidden": true,
    "scrolled": false
   },
   "outputs": [],
   "source": [
    "plt.figure(figsize=(8,8))\n",
    "nx.draw(G_mv,node_size=30,node_color='r',edge_color='k',pos=nx.kamada_kawai_layout(G_mv))"
   ]
  },
  {
   "cell_type": "markdown",
   "metadata": {
    "heading_collapsed": true
   },
   "source": [
    "# Lib Test"
   ]
  },
  {
   "cell_type": "code",
   "execution_count": null,
   "metadata": {
    "ExecuteTime": {
     "end_time": "2020-05-28T06:51:33.998508Z",
     "start_time": "2020-05-28T06:51:33.994521Z"
    },
    "hidden": true
   },
   "outputs": [],
   "source": [
    "from graph_representation import *"
   ]
  },
  {
   "cell_type": "code",
   "execution_count": null,
   "metadata": {
    "ExecuteTime": {
     "end_time": "2020-05-28T06:51:39.450538Z",
     "start_time": "2020-05-28T06:51:39.357657Z"
    },
    "hidden": true
   },
   "outputs": [],
   "source": [
    "node_dim = np.zeros((9,2))\n",
    "edge_dim = np.zeros((9,2))\n",
    "for size in range(2,11):\n",
    "    G = create_grid_network(size)\n",
    "    G_mv = movement_network_transform(G)\n",
    "    node_dim[size - 2,:] = [len(G.nodes),len(G_mv.nodes)]\n",
    "    edge_dim[size - 2,:] = [len(G.edges),len(G_mv.edges)]"
   ]
  },
  {
   "cell_type": "code",
   "execution_count": null,
   "metadata": {
    "ExecuteTime": {
     "end_time": "2020-05-09T11:09:58.598020Z",
     "start_time": "2020-05-09T11:09:58.453433Z"
    },
    "hidden": true
   },
   "outputs": [],
   "source": [
    "plt.rc('font',family='Times New Roman',size=12)\n",
    "plt.plot(node_dim[:,0],node_dim[:,1],marker='o',c='b')\n",
    "plt.xlabel('Grid Network Node Number',fontdict={'size':14})\n",
    "plt.ylabel('Movement Network Node Number',fontdict={'size':14})\n",
    "k = (node_dim[:,1] / node_dim[:,0]).mean()\n",
    "plt.text(40,800,'k = {:.2f}'.format(k),fontdict={'color':'b','size':15,'style':'italic'})"
   ]
  },
  {
   "cell_type": "code",
   "execution_count": null,
   "metadata": {
    "ExecuteTime": {
     "end_time": "2020-05-09T11:09:53.202630Z",
     "start_time": "2020-05-09T11:09:53.052008Z"
    },
    "hidden": true,
    "scrolled": true
   },
   "outputs": [],
   "source": [
    "plt.rc('font',family='Times New Roman',size=12)\n",
    "plt.plot(edge_dim[:,0],edge_dim[:,1],marker='^',c='r')\n",
    "plt.xlabel('Grid Network Edge Number',fontdict={'size':14})\n",
    "plt.ylabel('Movement Network Edge Number',fontdict={'size':14})\n",
    "k = (edge_dim[:,1] / edge_dim[:,0]).mean()\n",
    "plt.text(150,2000,'k = {:.2f}'.format(k),fontdict={'color':'r','size':15,'style':'italic'})"
   ]
  },
  {
   "cell_type": "markdown",
   "metadata": {
    "heading_collapsed": true
   },
   "source": [
    "# Load Path Flow"
   ]
  },
  {
   "cell_type": "code",
   "execution_count": null,
   "metadata": {
    "ExecuteTime": {
     "end_time": "2020-05-10T03:12:08.024728Z",
     "start_time": "2020-05-10T03:12:08.012760Z"
    },
    "hidden": true
   },
   "outputs": [],
   "source": [
    "G = create_grid_network(size=5)\n",
    "G_mv = movement_network_transform(G)"
   ]
  },
  {
   "cell_type": "code",
   "execution_count": null,
   "metadata": {
    "ExecuteTime": {
     "end_time": "2020-05-09T14:37:06.507772Z",
     "start_time": "2020-05-09T14:37:06.503813Z"
    },
    "hidden": true
   },
   "outputs": [],
   "source": [
    "# select od"
   ]
  },
  {
   "cell_type": "code",
   "execution_count": null,
   "metadata": {
    "ExecuteTime": {
     "end_time": "2020-05-09T14:37:06.507772Z",
     "start_time": "2020-05-09T14:37:06.503813Z"
    },
    "hidden": true
   },
   "outputs": [],
   "source": [
    "# select shortest path\n",
    "\n",
    "# generate path flow\n",
    "\n",
    "# generate movement flow (node weight)\n",
    "\n",
    "# generate movement pair flow (edge weight)"
   ]
  },
  {
   "cell_type": "markdown",
   "metadata": {},
   "source": [
    "# Community Detection"
   ]
  },
  {
   "cell_type": "code",
   "execution_count": null,
   "metadata": {
    "ExecuteTime": {
     "end_time": "2020-05-28T07:19:50.433500Z",
     "start_time": "2020-05-28T07:19:50.427518Z"
    }
   },
   "outputs": [],
   "source": [
    "size = 3\n",
    "G = create_grid_network(size)\n",
    "G_mv = movement_network_transform(G)"
   ]
  },
  {
   "cell_type": "code",
   "execution_count": null,
   "metadata": {
    "ExecuteTime": {
     "end_time": "2020-05-28T09:46:49.950997Z",
     "start_time": "2020-05-28T09:46:49.948005Z"
    }
   },
   "outputs": [],
   "source": [
    "from networkx.algorithms.community import asyn_lpa_communities, girvan_newman"
   ]
  },
  {
   "cell_type": "code",
   "execution_count": null,
   "metadata": {
    "ExecuteTime": {
     "end_time": "2020-05-28T09:50:21.160542Z",
     "start_time": "2020-05-28T09:50:16.975736Z"
    }
   },
   "outputs": [],
   "source": [
    "gen = girvan_newman(G_mv)\n",
    "node_group = {idx:list(i) for idx,i in enumerate(gen)}"
   ]
  },
  {
   "cell_type": "code",
   "execution_count": null,
   "metadata": {
    "ExecuteTime": {
     "end_time": "2020-05-28T09:44:14.962927Z",
     "start_time": "2020-05-28T09:22:00.511975Z"
    }
   },
   "outputs": [],
   "source": [
    "node_class = {}\n",
    "c = 0\n",
    "for group in node_group:\n",
    "    for node in group:\n",
    "        node_class[node] = c\n",
    "    c += 1"
   ]
  },
  {
   "cell_type": "code",
   "execution_count": null,
   "metadata": {
    "ExecuteTime": {
     "end_time": "2020-05-28T09:15:20.228898Z",
     "start_time": "2020-05-28T09:15:19.389693Z"
    }
   },
   "outputs": [],
   "source": [
    "nx.draw(G_mv,node_color=list(node_class.values()))"
   ]
  }
 ],
 "metadata": {
  "hide_input": false,
  "kernelspec": {
   "display_name": "Python 3",
   "language": "python",
   "name": "python3"
  },
  "language_info": {
   "codemirror_mode": {
    "name": "ipython",
    "version": 3
   },
   "file_extension": ".py",
   "mimetype": "text/x-python",
   "name": "python",
   "nbconvert_exporter": "python",
   "pygments_lexer": "ipython3",
   "version": "3.6.4rc1"
  },
  "latex_envs": {
   "LaTeX_envs_menu_present": true,
   "autoclose": false,
   "autocomplete": true,
   "bibliofile": "biblio.bib",
   "cite_by": "apalike",
   "current_citInitial": 1,
   "eqLabelWithNumbers": true,
   "eqNumInitial": 1,
   "hotkeys": {
    "equation": "Ctrl-E",
    "itemize": "Ctrl-I"
   },
   "labels_anchors": false,
   "latex_user_defs": false,
   "report_style_numbering": false,
   "user_envs_cfg": false
  },
  "toc": {
   "base_numbering": 1,
   "nav_menu": {},
   "number_sections": true,
   "sideBar": true,
   "skip_h1_title": false,
   "title_cell": "Table of Contents",
   "title_sidebar": "Contents",
   "toc_cell": false,
   "toc_position": {},
   "toc_section_display": true,
   "toc_window_display": false
  },
  "varInspector": {
   "cols": {
    "lenName": 16,
    "lenType": 16,
    "lenVar": 40
   },
   "kernels_config": {
    "python": {
     "delete_cmd_postfix": "",
     "delete_cmd_prefix": "del ",
     "library": "var_list.py",
     "varRefreshCmd": "print(var_dic_list())"
    },
    "r": {
     "delete_cmd_postfix": ") ",
     "delete_cmd_prefix": "rm(",
     "library": "var_list.r",
     "varRefreshCmd": "cat(var_dic_list()) "
    }
   },
   "types_to_exclude": [
    "module",
    "function",
    "builtin_function_or_method",
    "instance",
    "_Feature"
   ],
   "window_display": false
  }
 },
 "nbformat": 4,
 "nbformat_minor": 2
}
