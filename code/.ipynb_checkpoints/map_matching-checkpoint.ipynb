{
 "cells": [
  {
   "cell_type": "code",
   "execution_count": null,
   "metadata": {
    "ExecuteTime": {
     "end_time": "2020-06-02T13:22:36.194041Z",
     "start_time": "2020-06-02T13:22:35.737030Z"
    }
   },
   "outputs": [],
   "source": [
    "import re\n",
    "import os\n",
    "import math\n",
    "import time\n",
    "from pathlib import Path\n",
    "\n",
    "import requests\n",
    "import osmread\n",
    "\n",
    "import pandas as pd\n",
    "\n",
    "from leuvenmapmatching.map.inmem import InMemMap\n",
    "from leuvenmapmatching.matcher.distance import DistanceMatcher, BaseMatcher\n",
    "from leuvenmapmatching import visualization as mmviz"
   ]
  },
  {
   "cell_type": "code",
   "execution_count": null,
   "metadata": {
    "ExecuteTime": {
     "end_time": "2020-06-02T13:22:50.320350Z",
     "start_time": "2020-06-02T13:22:36.258031Z"
    }
   },
   "outputs": [],
   "source": [
    "xml_file = Path(\".\") / \"osm.xml\"\n",
    "url = 'http://overpass-api.de/api/map?bbox=114.008285,22.582305,114.039957,22.626242'\n",
    "r = requests.get(url, stream=True)\n",
    "with xml_file.open('wb') as ofile:\n",
    "    for chunk in r.iter_content(chunk_size=1024):\n",
    "        if chunk:\n",
    "            ofile.write(chunk)"
   ]
  },
  {
   "cell_type": "code",
   "execution_count": null,
   "metadata": {
    "ExecuteTime": {
     "end_time": "2020-06-02T13:22:55.356888Z",
     "start_time": "2020-06-02T13:22:50.346247Z"
    }
   },
   "outputs": [],
   "source": [
    "map_con = InMemMap(\"myosm\", use_latlon=True, use_rtree=True, index_edges=True)\n",
    "for entity in osmread.parse_file(str(xml_file)):\n",
    "    if isinstance(entity, osmread.Way) and 'highway' in entity.tags:\n",
    "        for node_a, node_b in zip(entity.nodes, entity.nodes[1:]):\n",
    "            map_con.add_edge(node_a, node_b)\n",
    "            # Some roads are one-way. We'll add both directions.\n",
    "            map_con.add_edge(node_b, node_a)\n",
    "    if isinstance(entity, osmread.Node):\n",
    "        map_con.add_node(entity.id, (entity.lat, entity.lon))\n",
    "map_con.purge()"
   ]
  },
  {
   "cell_type": "code",
   "execution_count": null,
   "metadata": {
    "ExecuteTime": {
     "end_time": "2020-06-02T13:22:57.400434Z",
     "start_time": "2020-06-02T13:22:57.378439Z"
    },
    "code_folding": [
     0,
     3,
     15,
     24,
     35,
     46,
     53,
     59,
     62,
     69,
     92,
     113
    ]
   },
   "outputs": [],
   "source": [
    "class GisTransform(object):\n",
    "    \"\"\"gis坐标转换类\"\"\"\n",
    " \n",
    "    def __init__(self, old_gis_name, new_gis_name):\n",
    "        \"\"\"\n",
    "        经纬度(谷歌高德):'wgs84'/  墨卡托:'webMercator'/ 火星坐标系(国测局):'gcj02'\n",
    "        \"\"\"\n",
    "        self.pi = 3.1415926535897932384626  # π   精度比math.pi 还高一些\n",
    "        self.ee = 0.00669342162296594323  # 偏心率平方\n",
    "        self.a = 6378245.0  # 长半轴\n",
    " \n",
    "        func_name = old_gis_name + '_to_' + new_gis_name\n",
    "        if hasattr(self, func_name):\n",
    "            self.transform_func = getattr(self, func_name)\n",
    " \n",
    "    def _out_of_china(self, lng, lat):\n",
    "        \"\"\"\n",
    "        判断是否在国内，不在国内不做偏移\n",
    "        :param lng:\n",
    "        :param lat:\n",
    "        :return:\n",
    "        \"\"\"\n",
    "        return not (lng > 73.66 and lng < 135.05 and lat > 3.86 and lat < 53.55)\n",
    " \n",
    "    def _transformlat(self, lng, lat):\n",
    "        ret = -100.0 + 2.0 * lng + 3.0 * lat + 0.2 * lat * lat + \\\n",
    "              0.1 * lng * lat + 0.2 * math.sqrt(math.fabs(lng))\n",
    "        ret += (20.0 * math.sin(6.0 * lng * self.pi) + 20.0 *\n",
    "                math.sin(2.0 * lng * self.pi)) * 2.0 / 3.0\n",
    "        ret += (20.0 * math.sin(lat * self.pi) + 40.0 *\n",
    "                math.sin(lat / 3.0 * self.pi)) * 2.0 / 3.0\n",
    "        ret += (160.0 * math.sin(lat / 12.0 * self.pi) + 320 *\n",
    "                math.sin(lat * self.pi / 30.0)) * 2.0 / 3.0\n",
    "        return ret\n",
    " \n",
    "    def _transformlng(self, lng, lat):\n",
    "        ret = 300.0 + lng + 2.0 * lat + 0.1 * lng * lng + \\\n",
    "              0.1 * lng * lat + 0.1 * math.sqrt(math.fabs(lng))\n",
    "        ret += (20.0 * math.sin(6.0 * lng * self.pi) + 20.0 *\n",
    "                math.sin(2.0 * lng * self.pi)) * 2.0 / 3.0\n",
    "        ret += (20.0 * math.sin(lng * self.pi) + 40.0 *\n",
    "                math.sin(lng / 3.0 * self.pi)) * 2.0 / 3.0\n",
    "        ret += (150.0 * math.sin(lng / 12.0 * self.pi) + 300.0 *\n",
    "                math.sin(lng / 30.0 * self.pi)) * 2.0 / 3.0\n",
    "        return ret\n",
    " \n",
    "    def wgs84_to_webMercator(self, lon, lat):\n",
    "        \"\"\"wgs84坐标 转 墨卡托坐标\"\"\"\n",
    "        x = lon * 20037508.342789 / 180\n",
    "        y = math.log(math.tan((90 + lat) * self.pi / 360)) / (self.pi / 180)\n",
    "        y = y * 20037508.34789 / 180\n",
    "        return x, y\n",
    " \n",
    "    def gcj02_to_webMercator(self, x, y):\n",
    "        \"\"\"火星转墨卡托\"\"\"\n",
    "        wgs84_x, wgs84_y = self.gcj02_to_wgs84(x, y)\n",
    "        webMercator_x, webMercator_y = self.wgs84_to_webMercator(wgs84_x, wgs84_y)\n",
    "        return webMercator_x, webMercator_y\n",
    " \n",
    "    def webMercator_to_webMercator(self, x, y):\n",
    "        return x, y\n",
    " \n",
    "    def webMercator_to_wgs84(self, x, y):\n",
    "        \"\"\"墨卡托坐标 转 wgs84坐标\"\"\"\n",
    "        lon = x / 20037508.34 * 180\n",
    "        lat = y / 20037508.34 * 180\n",
    "        lat = 180 / self.pi * (2 * math.atan(math.exp(lat * self.pi / 180)) - self.pi / 2)\n",
    "        return lon, lat\n",
    " \n",
    "    def gcj02_to_wgs84(self, lng, lat):\n",
    "        \"\"\"\n",
    "        GCJ02(火星坐标系)转GPS84\n",
    "        :param lng:火星坐标系的经度\n",
    "        :param lat:火星坐标系纬度\n",
    "        :return:\n",
    "        \"\"\"\n",
    "        if self._out_of_china(lng, lat):\n",
    "            return lng, lat\n",
    "        dlat = self._transformlat(lng - 105.0, lat - 35.0)\n",
    "        dlng = self._transformlng(lng - 105.0, lat - 35.0)\n",
    "        radlat = lat / 180.0 * self.pi\n",
    "        magic = math.sin(radlat)\n",
    "        magic = 1 - self.ee * magic * magic\n",
    "        sqrtmagic = math.sqrt(magic)\n",
    "        dlat = (dlat * 180.0) / ((self.a * (1 - self.ee)) / (magic * sqrtmagic) * self.pi)\n",
    "        dlng = (dlng * 180.0) / (self.a / sqrtmagic * math.cos(radlat) * self.pi)\n",
    "        mglat = lat + dlat\n",
    "        mglng = lng + dlng\n",
    "        new_x = lng * 2 - mglng\n",
    "        new_y = lat * 2 - mglat\n",
    "        return new_x, new_y\n",
    " \n",
    "    def wgs84_to_gcj02(self, lng, lat):\n",
    "        \"\"\"\n",
    "        WGS84转GCJ02(火星坐标系)\n",
    "        :param lng:WGS84坐标系的经度\n",
    "        :param lat:WGS84坐标系的纬度\n",
    "        :return:\n",
    "        \"\"\"\n",
    "        if self._out_of_china(lng, lat):  # 判断是否在国内\n",
    "            return lng, lat\n",
    "        dlat = self._transformlat(lng - 105.0, lat - 35.0)\n",
    "        dlng = self._transformlng(lng - 105.0, lat - 35.0)\n",
    "        radlat = lat / 180.0 * self.pi\n",
    "        magic = math.sin(radlat)\n",
    "        magic = 1 - self.ee * magic * magic\n",
    "        sqrtmagic = math.sqrt(magic)\n",
    "        dlat = (dlat * 180.0) / ((self.a * (1 - self.ee)) / (magic * sqrtmagic) * self.pi)\n",
    "        dlng = (dlng * 180.0) / (self.a / sqrtmagic * math.cos(radlat) * self.pi)\n",
    "        mglat = lat + dlat\n",
    "        mglng = lng + dlng\n",
    "        return mglng, mglat\n",
    " \n",
    "    def webMercator_to_gcj02(self, x, y):\n",
    "        \"\"\"墨卡托转火星\"\"\"\n",
    "        wgs84_x, wgs84_y = self.webMercator_to_wgs84(x, y)\n",
    "        gcj02_x, gcj02_y = self.wgs84_to_gcj02(wgs84_x, wgs84_y)\n",
    "        return gcj02_x, gcj02_y"
   ]
  },
  {
   "cell_type": "code",
   "execution_count": null,
   "metadata": {
    "ExecuteTime": {
     "end_time": "2020-06-02T13:22:57.866136Z",
     "start_time": "2020-06-02T13:22:57.861152Z"
    }
   },
   "outputs": [],
   "source": [
    "f = open('../20191201_20191220.csv')"
   ]
  },
  {
   "cell_type": "code",
   "execution_count": null,
   "metadata": {
    "ExecuteTime": {
     "start_time": "2020-06-02T13:22:58.685Z"
    }
   },
   "outputs": [],
   "source": [
    "gis = GisTransform('gcj02', 'wgs84')\n",
    "matcher = DistanceMatcher(map_con,\n",
    "                          max_dist=100,\n",
    "                          non_emitting_states=False)\n",
    "since = time.time()\n",
    "for i in range(10000):\n",
    "    \n",
    "    # Load a trj\n",
    "    line = f.readline()\n",
    "    \n",
    "    # preprocess\n",
    "    coords = line.replace('[','').replace(']','').replace('\"','').split(',')[2:]\n",
    "    coords = [item.replace('\\n','') for item in coords]\n",
    "    coords = [item.split(' ')[:3] for item in coords]\n",
    "    coords = np.array(coords[1:])[:,1:].astype(float).tolist()\n",
    "    coords = [(lon, lat) for [lon, lat] in coords]\n",
    "    coords_new = [gis.transform_func(lon, lat) for (lon, lat) in coords]\n",
    "    coords_new = [(lat, lon) for (lon, lat) in coords_new]\n",
    "\n",
    "    # match\n",
    "    try:\n",
    "        states, lastidx = matcher.match(coords_new)\n",
    "    except:\n",
    "        continue\n",
    "    \n",
    "    # duration\n",
    "    if i % 5 == 0:\n",
    "        print(\"[Info] Matched Trj [{:d}] | duration: {:.1f} sec.\".format(i,\n",
    "                                                                         time.time() - since))"
   ]
  },
  {
   "cell_type": "code",
   "execution_count": null,
   "metadata": {
    "ExecuteTime": {
     "end_time": "2020-06-02T13:15:14.534867Z",
     "start_time": "2020-06-02T13:14:36.924620Z"
    }
   },
   "outputs": [],
   "source": [
    "mmviz.plot_map(map_con, matcher=matcher,\n",
    "               show_labels=True, show_matching=True, show_graph=True,\n",
    "               filename=\"my_plot.png\")\n",
    "\n",
    "mmviz.plot_map(map_con, matcher=matcher,\n",
    "               use_osm=True, zoom_path=True,\n",
    "               show_labels=False, show_matching=True, show_graph=False,\n",
    "               filename=\"my_osm_plot.png\")"
   ]
  }
 ],
 "metadata": {
  "kernelspec": {
   "display_name": "Python 3",
   "language": "python",
   "name": "python3"
  },
  "language_info": {
   "codemirror_mode": {
    "name": "ipython",
    "version": 3
   },
   "file_extension": ".py",
   "mimetype": "text/x-python",
   "name": "python",
   "nbconvert_exporter": "python",
   "pygments_lexer": "ipython3",
   "version": "3.6.4rc1"
  },
  "latex_envs": {
   "LaTeX_envs_menu_present": true,
   "autoclose": false,
   "autocomplete": true,
   "bibliofile": "biblio.bib",
   "cite_by": "apalike",
   "current_citInitial": 1,
   "eqLabelWithNumbers": true,
   "eqNumInitial": 1,
   "hotkeys": {
    "equation": "Ctrl-E",
    "itemize": "Ctrl-I"
   },
   "labels_anchors": false,
   "latex_user_defs": false,
   "report_style_numbering": false,
   "user_envs_cfg": false
  },
  "toc": {
   "base_numbering": 1,
   "nav_menu": {},
   "number_sections": true,
   "sideBar": true,
   "skip_h1_title": false,
   "title_cell": "Table of Contents",
   "title_sidebar": "Contents",
   "toc_cell": false,
   "toc_position": {},
   "toc_section_display": true,
   "toc_window_display": false
  },
  "varInspector": {
   "cols": {
    "lenName": 16,
    "lenType": 16,
    "lenVar": 40
   },
   "kernels_config": {
    "python": {
     "delete_cmd_postfix": "",
     "delete_cmd_prefix": "del ",
     "library": "var_list.py",
     "varRefreshCmd": "print(var_dic_list())"
    },
    "r": {
     "delete_cmd_postfix": ") ",
     "delete_cmd_prefix": "rm(",
     "library": "var_list.r",
     "varRefreshCmd": "cat(var_dic_list()) "
    }
   },
   "types_to_exclude": [
    "module",
    "function",
    "builtin_function_or_method",
    "instance",
    "_Feature"
   ],
   "window_display": false
  }
 },
 "nbformat": 4,
 "nbformat_minor": 4
}
